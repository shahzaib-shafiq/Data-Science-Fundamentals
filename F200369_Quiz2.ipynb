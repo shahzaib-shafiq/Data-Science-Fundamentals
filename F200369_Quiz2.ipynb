{
 "cells": [
  {
   "cell_type": "code",
   "execution_count": 12,
   "id": "81249b82",
   "metadata": {},
   "outputs": [],
   "source": [
    "import numpy as np\n",
    "import pandas as pd\n",
    "import matplotlib.pyplot as plt\n",
    "import seaborn as sn"
   ]
  },
  {
   "cell_type": "code",
   "execution_count": 18,
   "id": "9c48c1fa",
   "metadata": {},
   "outputs": [
    {
     "name": "stdout",
     "output_type": "stream",
     "text": [
      "Numbers: [1, 2, 3, 4, 5, 6, 7, 8, 9, 10, 11, 12, 13, 14, 15]\n",
      "Even Numbers: [2, 4, 6, 8, 10, 12, 14]\n",
      "Squared Numbers: [1, 4, 9, 16, 25, 36, 49, 64, 81, 100, 121, 144, 169, 196, 225]\n",
      "Even Numbers Squared: [4, 16, 36, 64, 100, 144, 196]\n"
     ]
    }
   ],
   "source": [
    "#Question no 4 \n",
    "numbers = list(range(1, 16))\n",
    "evenno= list(filter(lambda x: x % 2 == 0, numbers))\n",
    "squarno = list(map(lambda x: x ** 2, numbers))\n",
    "evsq = list(map(lambda x: x ** 2, filter(lambda x: x % 2 == 0, numbers)))\n",
    "print(\"Numbers:\", numbers)\n",
    "print(\"Even Numbers:\", evenno)\n",
    "print(\"Squared Numbers:\", squarno)\n",
    "print(\"Even Numbers Squared:\",evsq)"
   ]
  },
  {
   "cell_type": "code",
   "execution_count": 17,
   "id": "a075e5de",
   "metadata": {},
   "outputs": [
    {
     "name": "stdout",
     "output_type": "stream",
     "text": [
      "Numbers: [1, 2, 3, 4, 5, 6, 7, 8, 9, 10, 11, 12, 13, 14, 15]\n",
      "Even Numbers: [2, 4, 6, 8, 10, 12, 14]\n",
      "Squared Numbers: [1, 4, 9, 16, 25, 36, 49, 64, 81, 100, 121, 144, 169, 196, 225]\n",
      "Even Numbers Squared: [4, 16, 36, 64, 100, 144, 196]\n"
     ]
    }
   ],
   "source": []
  },
  {
   "cell_type": "code",
   "execution_count": null,
   "id": "0cbcaf6e",
   "metadata": {},
   "outputs": [],
   "source": []
  }
 ],
 "metadata": {
  "kernelspec": {
   "display_name": "Python 3 (ipykernel)",
   "language": "python",
   "name": "python3"
  },
  "language_info": {
   "codemirror_mode": {
    "name": "ipython",
    "version": 3
   },
   "file_extension": ".py",
   "mimetype": "text/x-python",
   "name": "python",
   "nbconvert_exporter": "python",
   "pygments_lexer": "ipython3",
   "version": "3.11.4"
  }
 },
 "nbformat": 4,
 "nbformat_minor": 5
}
