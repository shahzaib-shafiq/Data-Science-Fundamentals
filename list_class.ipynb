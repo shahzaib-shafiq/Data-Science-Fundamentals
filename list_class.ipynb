{
 "cells": [
  {
   "cell_type": "code",
   "execution_count": 11,
   "id": "3f59b40e",
   "metadata": {},
   "outputs": [
    {
     "name": "stdout",
     "output_type": "stream",
     "text": [
      "[0, 1, 2, 3, 4, 5, 6, 7, 8, 9, 10, 11, 12, 13, 14, 15, 16, 17, 18, 19]\n",
      "[0, 1, 4, 9, 16, 25, 36, 49, 64, 81, 100, 121, 144, 169, 196, 225, 256, 289, 324, 361]\n",
      "[0, 1, 4, 9, 16, 25, 36, 49, 64, 81, 100, 121, 144, 169, 196, 225, 256, 289, 324, 361]\n"
     ]
    }
   ],
   "source": [
    "#create a list using comprehensions\n",
    "nums=[values for values in range(20)]\n",
    "print(nums)\n",
    "\n",
    "\n",
    "#maping values\n",
    "square_even=[values**2 for values in range(20)]\n",
    "print(square)\n",
    "\n",
    "\n",
    "\n",
    "#maping values wih filter\n",
    "square_even=[values**2 for values in range(29) if values%2==0]\n",
    "print(square)\n",
    "\n"
   ]
  },
  {
   "cell_type": "code",
   "execution_count": 14,
   "id": "d0cc7abc",
   "metadata": {},
   "outputs": [
    {
     "name": "stdout",
     "output_type": "stream",
     "text": [
      "['YELLOW', 'GREEN', 'BLUE', 'RED', 'BLACK']\n"
     ]
    }
   ],
   "source": [
    "colors=['Yellow','Green','Blue','rED','bLAck']\n",
    "\n",
    "updated_colors=[color.upper() for color in colors]\n",
    "print(updated_colors)\n",
    "\n",
    "\n",
    "\n",
    "updated_colors=[color.lower() for color in colors]\n",
    "print(updated_colors)\n",
    "\n",
    "\n"
   ]
  },
  {
   "cell_type": "code",
   "execution_count": 32,
   "id": "ef236558",
   "metadata": {},
   "outputs": [
    {
     "name": "stdout",
     "output_type": "stream",
     "text": [
      "<generator object <genexpr> at 0x000001CB5E86C380>\n",
      "0\n",
      "1\n",
      "2\n",
      "3\n",
      "4\n",
      "5\n",
      "6\n",
      "7\n",
      "8\n",
      "9\n",
      "10\n",
      "11\n",
      "12\n",
      "13\n",
      "14\n",
      "15\n",
      "16\n",
      "17\n",
      "18\n",
      "19\n",
      "0 1 2 3 4 5 6 7 8 9 10 11 12 13 14 15 16 17 18 19 \n",
      " \n",
      "0 1 4 9 16 25 36 49 64 81 100 121 144 169 196 225 256 289 324 361 \n",
      " \n",
      "0 1 8 27 64 125 216 343 512 729 1000 1331 1728 2197 2744 3375 4096 4913 5832 6859 \n",
      " \n",
      "0 4 16 36 64 100 144 196 256 324 "
     ]
    }
   ],
   "source": [
    "#In Python, a generator is a function that returns an iterator that produces a sequence of values when iterated over. Generators are useful when we want to produce a large sequence of values, but we don't want to store all of them in memory at once\n",
    "#generator data\n",
    "#only take memory when executed\n",
    "#not greedy approach\n",
    "#lazy approach\n",
    "\n",
    "nus = (values for values in range(20))\n",
    "print(nus)\n",
    "\n",
    "for value in nus:\n",
    "    print (value)\n",
    "    \n",
    "    \n",
    "nus = list(values for values in range(20))\n",
    "for value in nus:\n",
    "    print (value,end= ' ')\n",
    "    \n",
    "print ('\\n ')\n",
    "    \n",
    "\n",
    "nus = list(values**2 for values in range(20))\n",
    "for value in nus:\n",
    "    print (value,end=' ')    \n",
    "\n",
    "    \n",
    "        \n",
    "print ('\\n ')\n",
    "    \n",
    "\n",
    "nus = list(values**3 for values in range(20))\n",
    "for value in nus:\n",
    "    print (value,end= ' ')    \n",
    "\n",
    "    \n",
    "    \n",
    "print ('\\n ')\n",
    "    \n",
    "\n",
    "nus = list(values**2 for values in range(20) if values%2==0)\n",
    "for value in nus:\n",
    "    print (value,end= ' ')    \n",
    "    "
   ]
  },
  {
   "cell_type": "code",
   "execution_count": 39,
   "id": "235f2bd7",
   "metadata": {},
   "outputs": [
    {
     "name": "stdout",
     "output_type": "stream",
     "text": [
      "[2, 6, 18, 38, 66, 102, 146, 198, 258, 326] \n",
      "[0, 4, 16, 36, 64, 100, 144, 196, 256, 324] \n",
      "[True, False, False, True, False, False, True, False, False, True] \n"
     ]
    }
   ],
   "source": [
    "def even_nums(x):\n",
    "    return (x+2)\n",
    "\n",
    "def odd_nums(x):\n",
    "    return(x%3==0)\n",
    "\n",
    "\n",
    "#callback functions\n",
    "#function pointrs\n",
    "#point to a function memory adress\n",
    "evens=list(map(even_nums,nus))\n",
    "\n",
    "#evenss=list(filter(even_nums,nus))\n",
    "\n",
    "#anamoyus fun\n",
    "evenss=list(filter(lambda x: x%2==0,nus))\n",
    "\n",
    "odd_nums=list(map(odd_nums,nus))\n",
    "\n",
    "\n",
    "print(evens,end=\" \\n\")\n",
    "\n",
    "print(evenss,end=\" \\n\")\n",
    "print(odd_nums,end=\" \\n\")\n",
    "\n"
   ]
  },
  {
   "cell_type": "code",
   "execution_count": 47,
   "id": "f29082a2",
   "metadata": {},
   "outputs": [
    {
     "name": "stdout",
     "output_type": "stream",
     "text": [
      "[(40, 104.0), (45, 113.0), (43, 109.4), (38, 100.4), (15, 59.0)]\n"
     ]
    }
   ],
   "source": [
    "temps=[40,45,43,38,15]\n",
    "#write a map fun that convrt the 0c o farhenhisght\n",
    "#(°C × 9/5) + 32\n",
    "\n",
    "\n",
    "def converttoFarheneit(C):\n",
    "    return (C * 9/5) + 32\n",
    "\n",
    "\n",
    "#anamyous fun\n",
    "temps=[40,45,43,38,15]\n",
    "fareh_temp=list(map(lambda x:(x,x*(9/5)+32),temps))\n",
    "print(fareh_temp)\n"
   ]
  },
  {
   "cell_type": "code",
   "execution_count": 49,
   "id": "21397c5d",
   "metadata": {},
   "outputs": [
    {
     "name": "stdout",
     "output_type": "stream",
     "text": [
      "name:Zain not zain=>cgpa:2.7\n",
      "name:zain some zain=>cgpa:3\n",
      "name:Arzam cutes=>cgpa:45\n"
     ]
    }
   ],
   "source": [
    "students=[\"Zain not zain\",\"zain some zain\",\"Arzam cutes\"]\n",
    "cgpa=[2.70,3,45,4.0]\n",
    "for name, cgpa in zip(students,cgpa):\n",
    "    print(f'name:{name}=>cgpa:{cgpa}')"
   ]
  },
  {
   "cell_type": "code",
   "execution_count": 52,
   "id": "f752d9ad",
   "metadata": {},
   "outputs": [
    {
     "ename": "TypeError",
     "evalue": "Accounts() takes no arguments",
     "output_type": "error",
     "traceback": [
      "\u001b[1;31m---------------------------------------------------------------------------\u001b[0m",
      "\u001b[1;31mTypeError\u001b[0m                                 Traceback (most recent call last)",
      "Cell \u001b[1;32mIn[52], line 11\u001b[0m\n\u001b[0;32m      8\u001b[0m     \u001b[38;5;28;01mdef\u001b[39;00m \u001b[38;5;21mwithdraw\u001b[39m(amount):\n\u001b[0;32m      9\u001b[0m         \u001b[38;5;28mself\u001b[39m\u001b[38;5;241m.\u001b[39mbalance\u001b[38;5;241m-\u001b[39m\u001b[38;5;241m=\u001b[39mamount\n\u001b[1;32m---> 11\u001b[0m acc\u001b[38;5;241m=\u001b[39mAccounts(\u001b[38;5;124m\"\u001b[39m\u001b[38;5;124mUsman\u001b[39m\u001b[38;5;124m\"\u001b[39m,\u001b[38;5;241m344444\u001b[39m)\n\u001b[0;32m     12\u001b[0m \u001b[38;5;28mprint\u001b[39m(acc)\n",
      "\u001b[1;31mTypeError\u001b[0m: Accounts() takes no arguments"
     ]
    }
   ],
   "source": [
    "class Accounts:\n",
    "    def __init__(self,name,balance):\n",
    "        self.name=name\n",
    "        self.balance=balance\n",
    "    def deposit(self,amount):\n",
    "        self.balance+=amount\n",
    "        \n",
    "    def withdraw(self,amount):\n",
    "        self.balance-=amount\n",
    "        \n",
    "    def __repr__(self):\n",
    "        return \n",
    "        \n",
    "acc=Accounts(\"Usman\",344444)\n",
    "print(acc)        "
   ]
  },
  {
   "cell_type": "code",
   "execution_count": 51,
   "id": "ecf40f66",
   "metadata": {},
   "outputs": [
    {
     "ename": "NameError",
     "evalue": "name 'Accounts' is not defined",
     "output_type": "error",
     "traceback": [
      "\u001b[1;31m---------------------------------------------------------------------------\u001b[0m",
      "\u001b[1;31mNameError\u001b[0m                                 Traceback (most recent call last)",
      "Cell \u001b[1;32mIn[51], line 1\u001b[0m\n\u001b[1;32m----> 1\u001b[0m acc\u001b[38;5;241m=\u001b[39mAccounts(\u001b[38;5;124m\"\u001b[39m\u001b[38;5;124mUsman\u001b[39m\u001b[38;5;124m\"\u001b[39m,\u001b[38;5;241m344444\u001b[39m)\n\u001b[0;32m      2\u001b[0m \u001b[38;5;28mprint\u001b[39m(acc)\n",
      "\u001b[1;31mNameError\u001b[0m: name 'Accounts' is not defined"
     ]
    }
   ],
   "source": []
  },
  {
   "cell_type": "code",
   "execution_count": 25,
   "id": "ec01643f",
   "metadata": {},
   "outputs": [
    {
     "name": "stdout",
     "output_type": "stream",
     "text": [
      "Python 3.11.4\n"
     ]
    }
   ],
   "source": [
    "!python --version\n"
   ]
  }
 ],
 "metadata": {
  "kernelspec": {
   "display_name": "Python 3 (ipykernel)",
   "language": "python",
   "name": "python3"
  },
  "language_info": {
   "codemirror_mode": {
    "name": "ipython",
    "version": 3
   },
   "file_extension": ".py",
   "mimetype": "text/x-python",
   "name": "python",
   "nbconvert_exporter": "python",
   "pygments_lexer": "ipython3",
   "version": "3.11.4"
  }
 },
 "nbformat": 4,
 "nbformat_minor": 5
}
