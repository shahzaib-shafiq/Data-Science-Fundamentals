{
 "cells": [
  {
   "cell_type": "code",
   "execution_count": 3,
   "id": "bc5089ad",
   "metadata": {},
   "outputs": [
    {
     "name": "stdout",
     "output_type": "stream",
     "text": [
      "<class 'tuple'>\n",
      "(4, 5, 6, 7)\n",
      "0 4\n",
      "1 5\n",
      "2 6\n",
      "3 7\n",
      "125\n"
     ]
    }
   ],
   "source": [
    "# enumarate\n",
    "\n",
    "\n",
    "\n",
    "x=(4,5,6,7)\n",
    "print(type(x))\n",
    "print(x)\n",
    "\n",
    "\n",
    "for index,value in enumerate(x):\n",
    "    print(index,value)\n",
    "\n",
    "\n",
    "    \n",
    "    \n",
    "#function\n",
    "x = lambda x: x**3\n",
    "print(x(5))\n",
    "\n",
    "\n",
    "\n",
    "\n",
    "def func(x):\n",
    "     return x**3\n",
    "    \n",
    "    \n",
    "print(func(5))\n",
    "\n",
    "\n",
    "\n",
    "\n",
    "\n",
    "    "
   ]
  }
 ],
 "metadata": {
  "kernelspec": {
   "display_name": "Python 3 (ipykernel)",
   "language": "python",
   "name": "python3"
  },
  "language_info": {
   "codemirror_mode": {
    "name": "ipython",
    "version": 3
   },
   "file_extension": ".py",
   "mimetype": "text/x-python",
   "name": "python",
   "nbconvert_exporter": "python",
   "pygments_lexer": "ipython3",
   "version": "3.11.4"
  }
 },
 "nbformat": 4,
 "nbformat_minor": 5
}
