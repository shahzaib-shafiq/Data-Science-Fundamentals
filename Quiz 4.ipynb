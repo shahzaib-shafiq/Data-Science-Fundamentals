{
 "cells": [
  {
   "cell_type": "markdown",
   "id": "cd7b5301",
   "metadata": {},
   "source": [
    "#### Quiz: Analyzing Student Data\n",
    "\n",
    "Consider a dataset containing information about students in a school. Use the following randomly generated data for the quiz as following template. The sample data should have following features: <br>\n",
    "Student ID - RANGE (1-100) <br>\n",
    "Class : A,B,C <br>\n",
    "Gender: Male, Female <br>\n",
    "Subject: EE, CS, SE <br>\n",
    "Score: 40-100 <br>\n",
    "##### Submission Guidelines \n",
    "Provide solution in given cell only. <br>\n",
    "Don't write anything for question(s) you're not attempting. <br>\n",
    "Rename the .ipynb file with following convention to get marked your questions -> 21F-1234_Q4"
   ]
  },
  {
   "cell_type": "code",
   "execution_count": 1,
   "id": "d240be7b",
   "metadata": {},
   "outputs": [],
   "source": [
    "import pandas as pd\n",
    "import numpy as np\n",
    "\n",
    "np.random.seed(42)\n",
    "\n",
    "# Generate random student data\n",
    "data = {\n",
    "    'StudentID': np.arange(1, 101),\n",
    "    'Class': np.random.choice(['A', 'B', 'C'], size=100),\n",
    "    # fill the code here to generate values as required\n",
    "}\n",
    "\n",
    "#Generate dataframe here\n"
   ]
  },
  {
   "cell_type": "markdown",
   "id": "5ac0e9ab",
   "metadata": {},
   "source": [
    "#### 1. Calculate the average score for each class using pivot table."
   ]
  },
  {
   "cell_type": "code",
   "execution_count": 2,
   "id": "401fcbcb",
   "metadata": {},
   "outputs": [],
   "source": [
    "#Add Solution here"
   ]
  },
  {
   "cell_type": "markdown",
   "id": "f6c0e84e",
   "metadata": {},
   "source": [
    "#### 2. Find the total number of students in each class and gender."
   ]
  },
  {
   "cell_type": "code",
   "execution_count": null,
   "id": "3a226cf6",
   "metadata": {},
   "outputs": [],
   "source": [
    "#Add Solution here"
   ]
  },
  {
   "cell_type": "markdown",
   "id": "e2cb8ab5",
   "metadata": {},
   "source": [
    "#### 3. Create a pivot table to show the average score for each subject by gender."
   ]
  },
  {
   "cell_type": "code",
   "execution_count": null,
   "id": "080d74bf",
   "metadata": {},
   "outputs": [],
   "source": [
    "#Add Solution here"
   ]
  },
  {
   "cell_type": "markdown",
   "id": "cb7b9ca4",
   "metadata": {},
   "source": [
    "#### 4. Calculate the maximum score for each subject in each class.\n"
   ]
  },
  {
   "cell_type": "code",
   "execution_count": null,
   "id": "88ade475",
   "metadata": {},
   "outputs": [],
   "source": [
    "#Add Solution here"
   ]
  },
  {
   "cell_type": "markdown",
   "id": "7837edde",
   "metadata": {},
   "source": [
    "#### 5.1. Generate a stacked bar chart to represent the total number of students in each class and gender."
   ]
  },
  {
   "cell_type": "code",
   "execution_count": 3,
   "id": "52104cb4",
   "metadata": {},
   "outputs": [],
   "source": [
    "#Add Solution here"
   ]
  },
  {
   "cell_type": "markdown",
   "id": "d3d97f88",
   "metadata": {},
   "source": [
    "#### 5.2. Plot a scatter plot to visualize the relationship between scores in CS and SE."
   ]
  },
  {
   "cell_type": "code",
   "execution_count": null,
   "id": "ae6d5a24",
   "metadata": {},
   "outputs": [],
   "source": [
    "#Add Solution here"
   ]
  },
  {
   "cell_type": "markdown",
   "id": "8fe2f838",
   "metadata": {},
   "source": [
    "#### 5.3. Create a line plot to display the trend of scores over the student IDs."
   ]
  },
  {
   "cell_type": "code",
   "execution_count": null,
   "id": "c3b428cd",
   "metadata": {},
   "outputs": [],
   "source": [
    "#Add Solution here"
   ]
  }
 ],
 "metadata": {
  "kernelspec": {
   "display_name": "Python 3 (ipykernel)",
   "language": "python",
   "name": "python3"
  },
  "language_info": {
   "codemirror_mode": {
    "name": "ipython",
    "version": 3
   },
   "file_extension": ".py",
   "mimetype": "text/x-python",
   "name": "python",
   "nbconvert_exporter": "python",
   "pygments_lexer": "ipython3",
   "version": "3.10.9"
  }
 },
 "nbformat": 4,
 "nbformat_minor": 5
}
