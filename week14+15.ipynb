{
 "cells": [
  {
   "cell_type": "code",
   "execution_count": 7,
   "id": "555804fd",
   "metadata": {},
   "outputs": [],
   "source": [
    "from math import sqrt\n",
    "def euclidean (a,b): #l2 Norm\n",
    "    return sqrt(sum((e1-e2)**2 for e1, e2 in zip(a,b)))\n",
    "def manhattan (a,b): #l1 norm\n",
    "    return sum(abs(e1-e2) for e1,e2 in zip (a,b))\n",
    "def chebyshev(a,b): #max norm\n",
    "    return max(abs(e1-e2) for e1,e2 in zip (a,b))\n",
    "def hamming (a,b): #l1 norm\n",
    "    return sum(abs(e1-e2) for e1,e2 in zip (a,b)) / len(a)"
   ]
  },
  {
   "cell_type": "code",
   "execution_count": 8,
   "id": "7c969b51",
   "metadata": {},
   "outputs": [],
   "source": [
    "import pandas as pd\n",
    "from scipy.spatial import distance"
   ]
  },
  {
   "cell_type": "code",
   "execution_count": 9,
   "id": "0bb9cc47",
   "metadata": {},
   "outputs": [
    {
     "data": {
      "text/plain": [
       "2.0"
      ]
     },
     "execution_count": 9,
     "metadata": {},
     "output_type": "execute_result"
    }
   ],
   "source": [
    "vec_1 = [1,0,0,0,1,2]\n",
    "vec_2 = [0,0,0,1,2,1]\n",
    "distance.euclidean(vec_1,vec_2)\n",
    "euclidean(vec_1,vec_2)"
   ]
  },
  {
   "cell_type": "code",
   "execution_count": 10,
   "id": "1f7d42b7",
   "metadata": {},
   "outputs": [
    {
     "data": {
      "text/plain": [
       "4"
      ]
     },
     "execution_count": 10,
     "metadata": {},
     "output_type": "execute_result"
    }
   ],
   "source": [
    "manhattan(vec_1,vec_2)\n",
    "distance. (vec_1,vec_2)"
   ]
  },
  {
   "cell_type": "code",
   "execution_count": 11,
   "id": "c0a01aef",
   "metadata": {},
   "outputs": [
    {
     "data": {
      "text/plain": [
       "1"
      ]
     },
     "execution_count": 11,
     "metadata": {},
     "output_type": "execute_result"
    }
   ],
   "source": [
    "distance.chebyshev(vec_1,vec_2)\n",
    "chebyshev(vec_1,vec_2)"
   ]
  },
  {
   "cell_type": "code",
   "execution_count": 12,
   "id": "a7d2560b",
   "metadata": {},
   "outputs": [
    {
     "data": {
      "text/plain": [
       "0.6666666666666666"
      ]
     },
     "execution_count": 12,
     "metadata": {},
     "output_type": "execute_result"
    }
   ],
   "source": [
    "distance.hamming(vec_1,vec_2)\n",
    "hamming(vec_1,vec_2)"
   ]
  }
 ],
 "metadata": {
  "kernelspec": {
   "display_name": "Python 3 (ipykernel)",
   "language": "python",
   "name": "python3"
  },
  "language_info": {
   "codemirror_mode": {
    "name": "ipython",
    "version": 3
   },
   "file_extension": ".py",
   "mimetype": "text/x-python",
   "name": "python",
   "nbconvert_exporter": "python",
   "pygments_lexer": "ipython3",
   "version": "3.10.9"
  }
 },
 "nbformat": 4,
 "nbformat_minor": 5
}
