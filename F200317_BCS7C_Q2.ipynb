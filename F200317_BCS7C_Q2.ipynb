{
 "cells": [
  {
   "cell_type": "code",
   "execution_count": 14,
   "id": "2cd829c2",
   "metadata": {},
   "outputs": [
    {
     "name": "stdout",
     "output_type": "stream",
     "text": [
      "[2, 4, 6, 8, 10, 12, 14]\n",
      "[1, 4, 9, 16, 25, 36, 49, 64, 81, 100, 121, 144, 169, 196]\n",
      "[None, 4, None, 16, None, 36, None, 64, None, 100, None, 144, None, 196]\n"
     ]
    }
   ],
   "source": [
    "\n",
    "val=[values for values in range(1,15)]\n",
    "\n",
    "\n",
    "# PART  A\n",
    "evennum = list(filter(lambda x:x%2==0,val))\n",
    "print(evennum)\n",
    "\n",
    "#PART B\n",
    "\n",
    "squarenum = list(map(lambda x:x**2,val))\n",
    "print(squarenum)\n",
    "\n",
    "\n",
    "#PART C\n",
    "squareeven = list(map(lambda x: x**2 if x % 2 == 0 else None, val))\n",
    "print(squareeven)\n",
    "\n"
   ]
  },
  {
   "cell_type": "code",
   "execution_count": null,
   "id": "5f44b90b",
   "metadata": {},
   "outputs": [],
   "source": []
  }
 ],
 "metadata": {
  "kernelspec": {
   "display_name": "Python 3 (ipykernel)",
   "language": "python",
   "name": "python3"
  },
  "language_info": {
   "codemirror_mode": {
    "name": "ipython",
    "version": 3
   },
   "file_extension": ".py",
   "mimetype": "text/x-python",
   "name": "python",
   "nbconvert_exporter": "python",
   "pygments_lexer": "ipython3",
   "version": "3.11.4"
  }
 },
 "nbformat": 4,
 "nbformat_minor": 5
}
