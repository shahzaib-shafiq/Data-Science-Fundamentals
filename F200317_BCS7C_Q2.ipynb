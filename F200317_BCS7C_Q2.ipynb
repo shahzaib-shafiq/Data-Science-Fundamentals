{
 "cells": [
  {
   "cell_type": "code",
   "execution_count": 3,
   "id": "2cd829c2",
   "metadata": {},
   "outputs": [
    {
     "ename": "SyntaxError",
     "evalue": "expected 'else' after 'if' expression (60860938.py, line 15)",
     "output_type": "error",
     "traceback": [
      "\u001b[1;36m  Cell \u001b[1;32mIn[3], line 15\u001b[1;36m\u001b[0m\n\u001b[1;33m    squareeven = list(map(lambda x: x**2 if x % 2 == 0 val))\u001b[0m\n\u001b[1;37m                                    ^\u001b[0m\n\u001b[1;31mSyntaxError\u001b[0m\u001b[1;31m:\u001b[0m expected 'else' after 'if' expression\n"
     ]
    }
   ],
   "source": [
    "\n",
    "val=[values for values in range(1,15)]\n",
    "\n",
    "\n",
    "# PART  A\n",
    "evennum = list(filter(lambda x:x%2==0,val))\n",
    "print(evennum)\n",
    "\n",
    "#PART B\n",
    "\n",
    "squarenum = list(map(lambda x:x**2,val))\n",
    "print(squarenum)\n",
    "\n",
    "\n",
    "#PART C\n",
    "squareeven = list(map(lambda x: x**2 if x % 2 == 0 val))\n",
    "print(squareeven)\n",
    "\n"
   ]
  },
  {
   "cell_type": "code",
   "execution_count": null,
   "id": "5f44b90b",
   "metadata": {},
   "outputs": [],
   "source": []
  }
 ],
 "metadata": {
  "kernelspec": {
   "display_name": "Python 3 (ipykernel)",
   "language": "python",
   "name": "python3"
  },
  "language_info": {
   "codemirror_mode": {
    "name": "ipython",
    "version": 3
   },
   "file_extension": ".py",
   "mimetype": "text/x-python",
   "name": "python",
   "nbconvert_exporter": "python",
   "pygments_lexer": "ipython3",
   "version": "3.11.5"
  }
 },
 "nbformat": 4,
 "nbformat_minor": 5
}
