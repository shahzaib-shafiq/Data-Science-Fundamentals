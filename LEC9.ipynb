{
 "cells": [
  {
   "cell_type": "code",
   "execution_count": 2,
   "id": "eb32e32d",
   "metadata": {},
   "outputs": [
    {
     "name": "stdout",
     "output_type": "stream",
     "text": [
      "<class 'list'>\n",
      "1923094203008\n"
     ]
    }
   ],
   "source": [
    "list_=[]\n",
    "print(type(list_))\n",
    "print(id(list_))\n"
   ]
  },
  {
   "cell_type": "code",
   "execution_count": 3,
   "id": "f730891d",
   "metadata": {},
   "outputs": [
    {
     "name": "stdout",
     "output_type": "stream",
     "text": [
      "['SSS', 'zaib', 'SSShahzaib', 'Shahzaib']\n",
      "1923094203008\n"
     ]
    }
   ],
   "source": [
    "list_.append(\"Shahzaib\")\n",
    "list_.insert(0,\"SSShahzaib\")\n",
    "list_.insert(0,\"zaib\")\n",
    "list_.insert(0,\"SSS\")\n",
    "\n",
    "print(list_)\n",
    "print(id(list_))\n",
    "\n",
    "\n"
   ]
  },
  {
   "cell_type": "code",
   "execution_count": 43,
   "id": "1874120e",
   "metadata": {},
   "outputs": [
    {
     "name": "stdout",
     "output_type": "stream",
     "text": [
      "1819022986016\n",
      "1819034809152\n"
     ]
    }
   ],
   "source": [
    "#Single Tuple\n",
    "tup=(40,)\n",
    "print(id(tup))\n",
    "\n",
    "#following is not single tuple\n",
    "notSingleTuple=49\n",
    "tup+=(60,)\n",
    "print(id(tup))\n"
   ]
  },
  {
   "cell_type": "code",
   "execution_count": 45,
   "id": "94d57ceb",
   "metadata": {},
   "outputs": [
    {
     "name": "stdout",
     "output_type": "stream",
     "text": [
      "SSS\n",
      "zaib\n",
      "SSShahzaib\n",
      "SSS\n",
      "zaib\n",
      "SSShahzaib\n",
      "SSShahzaib\n",
      "SSShahzaib\n",
      "Shahzaib\n",
      "Shahzaib\n",
      "Shahzaib\n",
      "Shahzaib\n",
      "Shahzaib\n",
      "Shahzaib\n",
      "Shahzaib\n",
      "Shahzaib\n"
     ]
    }
   ],
   "source": [
    "for item in list_:\n",
    "    print(item)\n",
    "for item in range(len(list_)-1,-1,1):\n",
    "    print(list_[item])"
   ]
  },
  {
   "cell_type": "code",
   "execution_count": null,
   "id": "002faf50",
   "metadata": {},
   "outputs": [],
   "source": [
    "list2=[]\n",
    "list2.insert(0,\"Ali\")\n"
   ]
  },
  {
   "cell_type": "code",
   "execution_count": 47,
   "id": "061a0d7f",
   "metadata": {},
   "outputs": [
    {
     "name": "stdout",
     "output_type": "stream",
     "text": [
      "False\n",
      "True\n",
      "False\n",
      "False\n",
      "False\n"
     ]
    }
   ],
   "source": [
    "mylist1 = [\"apple\", \"banana\", \"cherry\"]\n",
    "mylist2 = [\"apples\", \"bananas\", \"cherrya\"]\n",
    "\n",
    "print(mylist1>mylist2)\n",
    "print(mylist1<mylist2)\n",
    "print(mylist1==mylist2)\n",
    "print(mylist1>=mylist2)\n",
    "print(mylist1 is mylist2)\n",
    "\n",
    "\n",
    "\n"
   ]
  },
  {
   "cell_type": "code",
   "execution_count": 1,
   "id": "44540123",
   "metadata": {},
   "outputs": [
    {
     "name": "stdout",
     "output_type": "stream",
     "text": [
      "['A', 'B', 'C', 'D', 'E', 'F', 'G']\n",
      "['A', 'C', 'E', 'G']\n",
      "65\n"
     ]
    }
   ],
   "source": [
    "list2=[]\n",
    "list2.append(\"A\")\n",
    "list2.append(\"B\")\n",
    "list2.append(\"C\")\n",
    "list2.append(\"D\")\n",
    "list2.append(\"E\")\n",
    "list2.append(\"F\")\n",
    "list2.append(\"G\")\n",
    "\n",
    "\n",
    "print(list2)\n",
    "\n",
    "list3=list2[::2]\n",
    "\n",
    "\n",
    "print(list3)\n",
    "\n",
    "\n",
    "#give ASCII value\n",
    "print(ord(\"A\"))\n"
   ]
  },
  {
   "cell_type": "code",
   "execution_count": 11,
   "id": "e1a78c58",
   "metadata": {},
   "outputs": [
    {
     "name": "stdout",
     "output_type": "stream",
     "text": [
      "[0, 1, 2, 3, 4, 5, 6, 7, 8, 9, 10, 11, 12, 13, 14, 15, 16, 17, 18, 19]\n",
      "[0, 1, 2, 3, 4, 5, 6, 7, 8, 9, 10, 11, 12, 13, 14, 15, 16, 17, 18, 19]\n",
      "[19, 18, 17, 16, 15, 14, 13, 12, 11, 10, 9, 8, 7, 6, 5, 4, 3, 2, 1, 0]\n",
      "True\n",
      "-------------------\n",
      "[0, 1, 2, 3, 4, 0, 1, 2, 3, 4]\n",
      "2\n"
     ]
    }
   ],
   "source": [
    "number=[]\n",
    "for i in range (20):\n",
    "    number+=[i]\n",
    "print(number)    \n",
    "\n",
    "print(sorted(number))\n",
    "print(sorted(number , reverse=True))\n",
    "\n",
    "\n",
    "print(10 in number)\n",
    "number[5:] = []\n",
    "print(\"-------------------\")\n",
    "print(number*2)\n",
    "#print(number.index(4))    \n",
    "print(number.index(2,1))  \n",
    "\n"
   ]
  },
  {
   "cell_type": "code",
   "execution_count": 14,
   "id": "78281c56",
   "metadata": {},
   "outputs": [
    {
     "name": "stdout",
     "output_type": "stream",
     "text": [
      "enter no9\n",
      "not found\n"
     ]
    }
   ],
   "source": [
    "key= int(input(\"enter no\"))\n",
    "\n",
    "if key in number:\n",
    "    print(f'The Key :{key} found in number at index {number.index(key)}' )\n",
    "else:\n",
    "    print(\"not found\")\n"
   ]
  },
  {
   "cell_type": "code",
   "execution_count": 76,
   "id": "8ccdf270",
   "metadata": {},
   "outputs": [
    {
     "name": "stdout",
     "output_type": "stream",
     "text": [
      "Item: 0 => Count: 5\n",
      "Item: 1 => Count: 5\n",
      "Item: 2 => Count: 5\n",
      "Item: 3 => Count: 5\n",
      "Item: 4 => Count: 5\n",
      "Item: 5 => Count: 5\n",
      "Item: 6 => Count: 5\n",
      "Item: 7 => Count: 5\n",
      "Item: 8 => Count: 5\n",
      "Item: 9 => Count: 5\n",
      "Item: 10 => Count: 5\n",
      "Item: 11 => Count: 5\n",
      "Item: 12 => Count: 5\n",
      "Item: 13 => Count: 5\n",
      "Item: 14 => Count: 5\n",
      "Item: 15 => Count: 5\n",
      "Item: 16 => Count: 5\n",
      "Item: 17 => Count: 5\n",
      "Item: 18 => Count: 5\n",
      "Item: 19 => Count: 5\n",
      "Item: 20 => Count: 5\n",
      "Item: 21 => Count: 5\n",
      "Item: 22 => Count: 5\n",
      "Item: 23 => Count: 5\n",
      "Item: 24 => Count: 5\n",
      "Item: 25 => Count: 5\n",
      "Item: 26 => Count: 5\n",
      "Item: 27 => Count: 5\n",
      "Item: 28 => Count: 5\n",
      "Item: 29 => Count: 5\n",
      "Item: 30 => Count: 5\n",
      "Item: 31 => Count: 5\n",
      "Item: 32 => Count: 5\n",
      "Item: 33 => Count: 5\n",
      "Item: 34 => Count: 5\n",
      "Item: 35 => Count: 5\n",
      "Item: 36 => Count: 5\n",
      "Item: 37 => Count: 5\n",
      "Item: 38 => Count: 5\n",
      "Item: 39 => Count: 5\n"
     ]
    }
   ],
   "source": [
    "ratings, unique = [], []\n",
    "\n",
    "# Generate a list of ratings from 0 to 39 five times\n",
    "for i in range(1, 6):\n",
    "    ratings += list(range(40))\n",
    "\n",
    "# Count the occurrences of each rating and store unique ratings in the 'unique' list\n",
    "for rating in ratings:\n",
    "    if rating not in unique:\n",
    "        unique.append(rating)\n",
    "\n",
    "# Print the count of each unique rating\n",
    "for rating in unique:\n",
    "    count = ratings.count(rating)\n",
    "    print(f'Item: {rating} => Count: {count}')\n"
   ]
  },
  {
   "cell_type": "code",
   "execution_count": 80,
   "id": "43d5805f",
   "metadata": {},
   "outputs": [
    {
     "name": "stdout",
     "output_type": "stream",
     "text": [
      "g\n",
      "['y', 'w', 'bl', 'b', 'r']\n",
      "5\n",
      "r\n",
      "['y', 'w', 'bl', 'b']\n",
      "4\n",
      "b\n",
      "['y', 'w', 'bl']\n",
      "3\n",
      "bl\n",
      "['y', 'w']\n",
      "2\n",
      "w\n",
      "['y']\n",
      "1\n",
      "y\n",
      "[]\n",
      "0\n"
     ]
    }
   ],
   "source": [
    "stack=[]\n",
    "stack.append('y')\n",
    "stack.append('w')\n",
    "stack.append('bl')\n",
    "stack.append('b')\n",
    "stack.append('r')\n",
    "stack.append('g')\n",
    "\n",
    "for color in range(len(stack)):\n",
    "    print(stack.pop())\n",
    "    print(stack)\n",
    "    print(len(stack))\n"
   ]
  },
  {
   "cell_type": "code",
   "execution_count": 81,
   "id": "6ebfa621",
   "metadata": {},
   "outputs": [],
   "source": [
    "#quene remove with pos"
   ]
  },
  {
   "cell_type": "code",
   "execution_count": null,
   "id": "bd356bfc",
   "metadata": {},
   "outputs": [],
   "source": []
  }
 ],
 "metadata": {
  "kernelspec": {
   "display_name": "Python 3 (ipykernel)",
   "language": "python",
   "name": "python3"
  },
  "language_info": {
   "codemirror_mode": {
    "name": "ipython",
    "version": 3
   },
   "file_extension": ".py",
   "mimetype": "text/x-python",
   "name": "python",
   "nbconvert_exporter": "python",
   "pygments_lexer": "ipython3",
   "version": "3.11.4"
  }
 },
 "nbformat": 4,
 "nbformat_minor": 5
}
