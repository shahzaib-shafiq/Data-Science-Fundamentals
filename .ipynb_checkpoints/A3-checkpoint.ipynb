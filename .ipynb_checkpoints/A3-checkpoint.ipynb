{
 "cells": [
  {
   "cell_type": "code",
   "execution_count": null,
   "id": "79f4247e",
   "metadata": {},
   "outputs": [],
   "source": [
    "import numpy as np\n",
    "#Q-1\n",
    "\n",
    "\n",
    "foursarray = np.full((10,10), 4)\n",
    "\n",
    "secondarray = np.arange(1,101).reshape(10,10)\n",
    "\n",
    "\n",
    "arraymultiplication=foursarray*secondarray\n",
    "print(\"Multiplication of Arrays\\n\\n\")\n",
    "print(arraymultiplication)"
   ]
  },
  {
   "cell_type": "code",
   "execution_count": null,
   "id": "74f798cf",
   "metadata": {},
   "outputs": [],
   "source": [
    "#Q-2\n",
    "\n",
    "list_of_list = [list(range(10, -1, -2)), list(range(0,11))]\n",
    "list_array = np.array(list_of_list, dtype=object)\n",
    "\n",
    "print(list_array)\n"
   ]
  },
  {
   "cell_type": "code",
   "execution_count": null,
   "id": "089b7dd6",
   "metadata": {},
   "outputs": [],
   "source": [
    "#Q-3\n",
    "\n",
    "list_of_list = [list(range(10, -1, -2)), list(range(0,11))]\n",
    "list_array = np.array(list_of_list, dtype=object)\n",
    "\n",
    "flatten_array=list_array.flatten()\n",
    "print(\"Flatten without updating 2nd element\")\n",
    "\n",
    "print(flatten_array)\n",
    "\n",
    "flatten_array[1] = 10\n",
    "print(\"Flatten Array after updating 2nd element\")\n",
    "\n",
    "print(flatten_array)\n",
    "\n",
    "print(\"Ravel Array before updating 2nd element\")\n",
    "\n",
    "ravel_array=list_array.ravel()\n",
    "print(ravel_array)\n",
    "\n",
    "\n",
    "ravel_array[1]=10\n",
    "print(\"ravel after updating 2nd element\")\n",
    "\n",
    "\n",
    "print(ravel_array)\n",
    "\n",
    "\n"
   ]
  },
  {
   "cell_type": "code",
   "execution_count": null,
   "id": "1156389c",
   "metadata": {},
   "outputs": [],
   "source": [
    "#Q-4\n",
    "\n",
    "array=np.linspace(1.1,6.6,6)\n",
    "\n",
    "print(\"\\nArray values\\n\")\n",
    "print(array)\n",
    "\n",
    "Integers = array.astype(int)\n",
    "print(\"\\nIntegers Array \\n\")\n",
    "print(Integers)\n",
    "\n",
    "Floats = Integers.astype(float)\n",
    "\n",
    "print(\"\\nFloats Array\\n\")\n",
    "print(Floats)\n",
    "Strings = Floats.astype(str)\n",
    "\n",
    "print(\"\\nStrings Array \\n\")\n",
    "print(Strings)\n",
    "\n",
    "\n",
    "\n",
    "\n",
    "\n"
   ]
  },
  {
   "cell_type": "code",
   "execution_count": 2,
   "id": "01e595d8",
   "metadata": {},
   "outputs": [
    {
     "name": "stdout",
     "output_type": "stream",
     "text": [
      " 1    12  123\n",
      "45     6  789\n",
      "12  1234   56\n",
      "\n"
     ]
    }
   ],
   "source": [
    "# Q - 5\n",
    "\n",
    "\n",
    "def format_2d_array(arr):\n",
    "    # Find the maximum width required for each column\n",
    "    column_widths = [max(len(str(arr[i][j])) for i in range(len(arr))) for j in range(len(arr[0]))]\n",
    "\n",
    "    formatted_output = \"\"\n",
    "\n",
    "    for row in arr:\n",
    "        for i, element in enumerate(row):\n",
    "            # Calculate the number of spaces needed to right-align the element\n",
    "            spaces = column_widths[i] - len(str(element))\n",
    "            formatted_output += \" \" * spaces + str(element)\n",
    "            if i < len(row) - 1:\n",
    "                formatted_output += \"  \"  # Add two spaces to separate columns\n",
    "        formatted_output += \"\\n\"  # Start a new line for the next row\n",
    "\n",
    "    return formatted_output\n",
    "\n",
    "# Example usage:\n",
    "example_array = [\n",
    "    [1, 12, 123],\n",
    "    [45, 6, 789],\n",
    "    [12, 1234, 56]\n",
    "]\n",
    "\n",
    "formatted_output = format_2d_array(example_array)\n",
    "print(formatted_output)\n"
   ]
  },
  {
   "cell_type": "code",
   "execution_count": 7,
   "id": "64ff7d99",
   "metadata": {},
   "outputs": [
    {
     "ename": "SyntaxError",
     "evalue": "closing parenthesis ']' does not match opening parenthesis '(' (1655783228.py, line 3)",
     "output_type": "error",
     "traceback": [
      "\u001b[1;36m  Cell \u001b[1;32mIn[7], line 3\u001b[1;36m\u001b[0m\n\u001b[1;33m    max_width = [max(len(str(dataframe.iloc[:, col].max())) for col in range(dataframe.shape[1])]\u001b[0m\n\u001b[1;37m                                                                                                ^\u001b[0m\n\u001b[1;31mSyntaxError\u001b[0m\u001b[1;31m:\u001b[0m closing parenthesis ']' does not match opening parenthesis '('\n"
     ]
    }
   ],
   "source": [
    "\n",
    "# Q-6\n",
    "\n",
    "def format_dataframe(dataframe):\n",
    "    # Calculate the maximum width required for each column\n",
    "    max_width = [max(len(str(dataframe.iloc[:, col].max())) for col in range(dataframe.shape[1])]\n",
    "\n",
    "    # Calculate the width for row labels\n",
    "    max_row_label_width = len(str(dataframe.shape[0] - 1))\n",
    "\n",
    "    formatted_output = \"\"\n",
    "\n",
    "    # Create the header with column labels\n",
    "    formatted_output += \" \" * (max_row_label_width + 1)  # Leave space for row labels\n",
    "    for i, col_label in enumerate(dataframe.columns):\n",
    "        spaces = max_width[i] - len(col_label)\n",
    "        formatted_output += \" \" * spaces + col_label\n",
    "        if i < len(dataframe.columns) - 1:\n",
    "            formatted_output += \"  \"\n",
    "    formatted_output += \"\\n\"\n",
    "\n",
    "    # Format the data rows with row labels\n",
    "    for row_label, row in zip(range(dataframe.shape[0]), dataframe.values):\n",
    "        row_label_str = str(row_label).rjust(max_row_label_width)\n",
    "        formatted_output += row_label_str + \"  \"\n",
    "        for i, element in enumerate(row):\n",
    "            spaces = max_width[i] - len(str(element))\n",
    "            formatted_output += \" \" * spaces + str(element)\n",
    "            if i < len(row) - 1:\n",
    "                formatted_output += \"  \"\n",
    "        formatted_output += \"\\n\"\n",
    "\n",
    "    return formatted_output\n",
    "\n",
    "# Example usage:\n",
    "import pandas as pd\n",
    "\n",
    "data = {\n",
    "    \"A\": [1, 12, 123],\n",
    "    \"B\": [45, 6, 789],\n",
    "    \"C\": [12, 1234, 56]\n",
    "}\n",
    "\n",
    "df = pd.DataFrame(data)\n",
    "formatted_output = format_dataframe(df)\n",
    "print(formatted_output)\n"
   ]
  },
  {
   "cell_type": "code",
   "execution_count": null,
   "id": "f53d429e",
   "metadata": {},
   "outputs": [],
   "source": []
  }
 ],
 "metadata": {
  "kernelspec": {
   "display_name": "Python 3 (ipykernel)",
   "language": "python",
   "name": "python3"
  },
  "language_info": {
   "codemirror_mode": {
    "name": "ipython",
    "version": 3
   },
   "file_extension": ".py",
   "mimetype": "text/x-python",
   "name": "python",
   "nbconvert_exporter": "python",
   "pygments_lexer": "ipython3",
   "version": "3.11.5"
  }
 },
 "nbformat": 4,
 "nbformat_minor": 5
}
