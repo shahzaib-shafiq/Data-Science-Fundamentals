{
 "cells": [
  {
   "cell_type": "code",
   "execution_count": 11,
   "id": "e288a352",
   "metadata": {},
   "outputs": [],
   "source": [
    "name=\"Shahzaib Shafiq\"\n",
    "pieces=[name.split(\"\") for x in name.strip()]\n"
   ]
  },
  {
   "cell_type": "code",
   "execution_count": null,
   "id": "d08d4f9f",
   "metadata": {},
   "outputs": [],
   "source": []
  }
 ],
 "metadata": {
  "kernelspec": {
   "display_name": "Python 3 (ipykernel)",
   "language": "python",
   "name": "python3"
  },
  "language_info": {
   "codemirror_mode": {
    "name": "ipython",
    "version": 3
   },
   "file_extension": ".py",
   "mimetype": "text/x-python",
   "name": "python",
   "nbconvert_exporter": "python",
   "pygments_lexer": "ipython3",
   "version": "3.11.4"
  }
 },
 "nbformat": 4,
 "nbformat_minor": 5
}
