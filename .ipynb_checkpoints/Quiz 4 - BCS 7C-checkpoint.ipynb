{
 "cells": [
  {
   "cell_type": "markdown",
   "id": "d830087d",
   "metadata": {},
   "source": [
    "#### Quiz: Analyzing Sales Data\n",
    "\n",
    "Consider a dataset containing information about 200 products of an online grocery store. Use the following randomly generated data for the quiz as following template. The sample data should have following features: <br>\n",
    "Product Type - Electronics', 'Clothing', 'Home Appliances' <br>\n",
    "Region : 'North', 'South', 'East', 'West' <br>\n",
    "City: Washington, Houston, Chicago, Sitka <br>\n",
    "Sales: Range (1000-5000) <br>\n",
    "##### Submission Guidelines \n",
    "Provide solution in given cell only. <br>\n",
    "Don't write anything for question(s) you're not attempting. <br>\n",
    "Rename the .ipynb file with following convention to get marked your questions -> 21F-1234_Q4"
   ]
  },
  {
   "cell_type": "code",
   "execution_count": 8,
   "id": "ae47fc25",
   "metadata": {},
   "outputs": [
    {
     "data": {
      "text/html": [
       "<div>\n",
       "<style scoped>\n",
       "    .dataframe tbody tr th:only-of-type {\n",
       "        vertical-align: middle;\n",
       "    }\n",
       "\n",
       "    .dataframe tbody tr th {\n",
       "        vertical-align: top;\n",
       "    }\n",
       "\n",
       "    .dataframe thead th {\n",
       "        text-align: right;\n",
       "    }\n",
       "</style>\n",
       "<table border=\"1\" class=\"dataframe\">\n",
       "  <thead>\n",
       "    <tr style=\"text-align: right;\">\n",
       "      <th></th>\n",
       "      <th>ProductType</th>\n",
       "      <th>Sales</th>\n",
       "      <th>Region</th>\n",
       "    </tr>\n",
       "  </thead>\n",
       "  <tbody>\n",
       "    <tr>\n",
       "      <th>0</th>\n",
       "      <td>Home Appliances</td>\n",
       "      <td>4763</td>\n",
       "      <td>UK</td>\n",
       "    </tr>\n",
       "    <tr>\n",
       "      <th>1</th>\n",
       "      <td>Electronics</td>\n",
       "      <td>2136</td>\n",
       "      <td>US</td>\n",
       "    </tr>\n",
       "    <tr>\n",
       "      <th>2</th>\n",
       "      <td>Home Appliances</td>\n",
       "      <td>2853</td>\n",
       "      <td>UK</td>\n",
       "    </tr>\n",
       "    <tr>\n",
       "      <th>3</th>\n",
       "      <td>Home Appliances</td>\n",
       "      <td>2520</td>\n",
       "      <td>PAK</td>\n",
       "    </tr>\n",
       "    <tr>\n",
       "      <th>4</th>\n",
       "      <td>Electronics</td>\n",
       "      <td>3489</td>\n",
       "      <td>IND</td>\n",
       "    </tr>\n",
       "    <tr>\n",
       "      <th>...</th>\n",
       "      <td>...</td>\n",
       "      <td>...</td>\n",
       "      <td>...</td>\n",
       "    </tr>\n",
       "    <tr>\n",
       "      <th>195</th>\n",
       "      <td>Clothing</td>\n",
       "      <td>1016</td>\n",
       "      <td>UK</td>\n",
       "    </tr>\n",
       "    <tr>\n",
       "      <th>196</th>\n",
       "      <td>Home Appliances</td>\n",
       "      <td>4243</td>\n",
       "      <td>UK</td>\n",
       "    </tr>\n",
       "    <tr>\n",
       "      <th>197</th>\n",
       "      <td>Home Appliances</td>\n",
       "      <td>2243</td>\n",
       "      <td>IND</td>\n",
       "    </tr>\n",
       "    <tr>\n",
       "      <th>198</th>\n",
       "      <td>Clothing</td>\n",
       "      <td>3205</td>\n",
       "      <td>US</td>\n",
       "    </tr>\n",
       "    <tr>\n",
       "      <th>199</th>\n",
       "      <td>Electronics</td>\n",
       "      <td>3524</td>\n",
       "      <td>PAK</td>\n",
       "    </tr>\n",
       "  </tbody>\n",
       "</table>\n",
       "<p>200 rows × 3 columns</p>\n",
       "</div>"
      ],
      "text/plain": [
       "         ProductType  Sales Region\n",
       "0    Home Appliances   4763     UK\n",
       "1        Electronics   2136     US\n",
       "2    Home Appliances   2853     UK\n",
       "3    Home Appliances   2520    PAK\n",
       "4        Electronics   3489    IND\n",
       "..               ...    ...    ...\n",
       "195         Clothing   1016     UK\n",
       "196  Home Appliances   4243     UK\n",
       "197  Home Appliances   2243    IND\n",
       "198         Clothing   3205     US\n",
       "199      Electronics   3524    PAK\n",
       "\n",
       "[200 rows x 3 columns]"
      ]
     },
     "execution_count": 8,
     "metadata": {},
     "output_type": "execute_result"
    }
   ],
   "source": [
    "\n",
    "\n",
    "#20F-0317\n",
    "\n",
    "\n",
    "import pandas as pd\n",
    "import numpy as np\n",
    "\n",
    "np.random.seed(42)\n",
    "\n",
    "# Generate random sales data\n",
    "data = {\n",
    "    'ProductType': np.random.choice(['Electronics', 'Clothing', 'Home Appliances'], size=200),\n",
    "    'Sales': np.random.randint(1000, 5000, size=200),\n",
    "    'Region':np.random.choice(['US','UK','PAK','IND'],size=200)\n",
    "    \n",
    "}\n",
    "\n",
    "sales_df = pd.DataFrame(data)\n",
    "sales_df"
   ]
  },
  {
   "cell_type": "markdown",
   "id": "41607eb2",
   "metadata": {},
   "source": [
    "#### 1. Calculate the total sales for each product type using Pivot Table"
   ]
  },
  {
   "cell_type": "code",
   "execution_count": 25,
   "id": "38be9284",
   "metadata": {},
   "outputs": [
    {
     "data": {
      "text/html": [
       "<div>\n",
       "<style scoped>\n",
       "    .dataframe tbody tr th:only-of-type {\n",
       "        vertical-align: middle;\n",
       "    }\n",
       "\n",
       "    .dataframe tbody tr th {\n",
       "        vertical-align: top;\n",
       "    }\n",
       "\n",
       "    .dataframe thead th {\n",
       "        text-align: right;\n",
       "    }\n",
       "</style>\n",
       "<table border=\"1\" class=\"dataframe\">\n",
       "  <thead>\n",
       "    <tr style=\"text-align: right;\">\n",
       "      <th></th>\n",
       "      <th>Sales</th>\n",
       "    </tr>\n",
       "    <tr>\n",
       "      <th>ProductType</th>\n",
       "      <th></th>\n",
       "    </tr>\n",
       "  </thead>\n",
       "  <tbody>\n",
       "    <tr>\n",
       "      <th>Clothing</th>\n",
       "      <td>182188</td>\n",
       "    </tr>\n",
       "    <tr>\n",
       "      <th>Electronics</th>\n",
       "      <td>189023</td>\n",
       "    </tr>\n",
       "    <tr>\n",
       "      <th>Home Appliances</th>\n",
       "      <td>227857</td>\n",
       "    </tr>\n",
       "  </tbody>\n",
       "</table>\n",
       "</div>"
      ],
      "text/plain": [
       "                  Sales\n",
       "ProductType            \n",
       "Clothing         182188\n",
       "Electronics      189023\n",
       "Home Appliances  227857"
      ]
     },
     "execution_count": 25,
     "metadata": {},
     "output_type": "execute_result"
    }
   ],
   "source": [
    "# Add solution here\n",
    "\n",
    "total = pd.pivot_table(sales_df, values='Sales', index='ProductType', aggfunc=np.sum)\n",
    "total\n",
    "\n"
   ]
  },
  {
   "cell_type": "markdown",
   "id": "09b54d53",
   "metadata": {},
   "source": [
    "#### 2. Find the average sales in each region using Group by.\n",
    "\n"
   ]
  },
  {
   "cell_type": "code",
   "execution_count": 24,
   "id": "ea0570a3",
   "metadata": {},
   "outputs": [
    {
     "data": {
      "text/plain": [
       "Region\n",
       "IND    3037.960000\n",
       "PAK    2916.045455\n",
       "UK     3006.267857\n",
       "US     3010.260000\n",
       "Name: Sales, dtype: float64"
      ]
     },
     "execution_count": 24,
     "metadata": {},
     "output_type": "execute_result"
    }
   ],
   "source": [
    "# Add solution here\n",
    "\n",
    "\n",
    "averagesales = sales_df.groupby('Region')['Sales'].mean()\n",
    "averagesales"
   ]
  },
  {
   "cell_type": "markdown",
   "id": "279e9493",
   "metadata": {},
   "source": [
    "#### 3. Create a pivot table to show the total sales for each product type in each region.\n"
   ]
  },
  {
   "cell_type": "code",
   "execution_count": 27,
   "id": "4da3d2e9",
   "metadata": {},
   "outputs": [
    {
     "data": {
      "text/html": [
       "<div>\n",
       "<style scoped>\n",
       "    .dataframe tbody tr th:only-of-type {\n",
       "        vertical-align: middle;\n",
       "    }\n",
       "\n",
       "    .dataframe tbody tr th {\n",
       "        vertical-align: top;\n",
       "    }\n",
       "\n",
       "    .dataframe thead th {\n",
       "        text-align: right;\n",
       "    }\n",
       "</style>\n",
       "<table border=\"1\" class=\"dataframe\">\n",
       "  <thead>\n",
       "    <tr style=\"text-align: right;\">\n",
       "      <th>Region</th>\n",
       "      <th>IND</th>\n",
       "      <th>PAK</th>\n",
       "      <th>UK</th>\n",
       "      <th>US</th>\n",
       "    </tr>\n",
       "    <tr>\n",
       "      <th>ProductType</th>\n",
       "      <th></th>\n",
       "      <th></th>\n",
       "      <th></th>\n",
       "      <th></th>\n",
       "    </tr>\n",
       "  </thead>\n",
       "  <tbody>\n",
       "    <tr>\n",
       "      <th>Clothing</th>\n",
       "      <td>56048</td>\n",
       "      <td>33986</td>\n",
       "      <td>38329</td>\n",
       "      <td>53825</td>\n",
       "    </tr>\n",
       "    <tr>\n",
       "      <th>Electronics</th>\n",
       "      <td>52938</td>\n",
       "      <td>43055</td>\n",
       "      <td>56408</td>\n",
       "      <td>36622</td>\n",
       "    </tr>\n",
       "    <tr>\n",
       "      <th>Home Appliances</th>\n",
       "      <td>42912</td>\n",
       "      <td>51265</td>\n",
       "      <td>73614</td>\n",
       "      <td>60066</td>\n",
       "    </tr>\n",
       "  </tbody>\n",
       "</table>\n",
       "</div>"
      ],
      "text/plain": [
       "Region             IND    PAK     UK     US\n",
       "ProductType                                \n",
       "Clothing         56048  33986  38329  53825\n",
       "Electronics      52938  43055  56408  36622\n",
       "Home Appliances  42912  51265  73614  60066"
      ]
     },
     "execution_count": 27,
     "metadata": {},
     "output_type": "execute_result"
    }
   ],
   "source": [
    "\n",
    "\n",
    "# Add solution here\n",
    "\n",
    "\n",
    "t_sales=pd.pivot_table(sales_df, values='Sales', index='ProductType', columns='Region', aggfunc=np.sum)\n",
    "t_sales"
   ]
  },
  {
   "cell_type": "markdown",
   "id": "65641a21",
   "metadata": {},
   "source": [
    "#### 4. Calculate the maximum sales for each region.\n"
   ]
  },
  {
   "cell_type": "code",
   "execution_count": 30,
   "id": "18ddc545",
   "metadata": {},
   "outputs": [
    {
     "data": {
      "text/plain": [
       "3037.96"
      ]
     },
     "execution_count": 30,
     "metadata": {},
     "output_type": "execute_result"
    }
   ],
   "source": [
    "# Add solution here\n",
    "\n",
    "\n",
    "\n",
    "maxsales = sales_df.groupby('Region')['Sales'].mean().max()\n",
    "maxsales"
   ]
  },
  {
   "cell_type": "markdown",
   "id": "f60a3935",
   "metadata": {},
   "source": [
    "#### 5.1 Visualize the total sales for each product type using a bar chart."
   ]
  },
  {
   "cell_type": "code",
   "execution_count": 32,
   "id": "36fcef3c",
   "metadata": {},
   "outputs": [
    {
     "data": {
      "text/plain": [
       "<Axes: xlabel='Region'>"
      ]
     },
     "execution_count": 32,
     "metadata": {},
     "output_type": "execute_result"
    },
    {
     "data": {
      "image/png": "[encoded data removed]",
      "text/plain": [
       "<Figure size 640x480 with 1 Axes>"
      ]
     },
     "metadata": {},
     "output_type": "display_data"
    }
   ],
   "source": [
    "# Add solution here\n",
    "import seaborn as sns\n",
    "sns.barplot(data=t_sales)\n"
   ]
  },
  {
   "cell_type": "markdown",
   "id": "4c538749",
   "metadata": {},
   "source": [
    "#### 5.2. Plot a scatter plot to visualize the relationship between sales and region."
   ]
  },
  {
   "cell_type": "code",
   "execution_count": null,
   "id": "86ab22c5",
   "metadata": {},
   "outputs": [],
   "source": [
    "# Add solution here\n",
    "\n"
   ]
  },
  {
   "cell_type": "markdown",
   "id": "bf6a2665",
   "metadata": {},
   "source": [
    "#### 5.3. Plot a line plot to visualize the total sales over different regions for each product type."
   ]
  },
  {
   "cell_type": "code",
   "execution_count": null,
   "id": "71bb567e",
   "metadata": {},
   "outputs": [],
   "source": [
    "# Add solution here"
   ]
  }
 ],
 "metadata": {
  "kernelspec": {
   "display_name": "Python 3 (ipykernel)",
   "language": "python",
   "name": "python3"
  },
  "language_info": {
   "codemirror_mode": {
    "name": "ipython",
    "version": 3
   },
   "file_extension": ".py",
   "mimetype": "text/x-python",
   "name": "python",
   "nbconvert_exporter": "python",
   "pygments_lexer": "ipython3",
   "version": "3.11.5"
  }
 },
 "nbformat": 4,
 "nbformat_minor": 5
}
