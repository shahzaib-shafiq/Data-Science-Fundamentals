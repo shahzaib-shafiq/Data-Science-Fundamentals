{
 "cells": [
  {
   "cell_type": "code",
   "execution_count": 11,
   "id": "9248437e",
   "metadata": {},
   "outputs": [
    {
     "name": "stdout",
     "output_type": "stream",
     "text": [
      "[0, 1, 2, 3, 4, 5, 6, 7, 8, 9, 10, 11, 12, 13, 14, 15, 16, 17, 18, 19]\n",
      "[0, 1, 4, 9, 16, 25, 36, 49, 64, 81, 100, 121, 144, 169, 196, 225, 256, 289, 324, 361]\n",
      "[0, 1, 4, 9, 16, 25, 36, 49, 64, 81, 100, 121, 144, 169, 196, 225, 256, 289, 324, 361]\n"
     ]
    }
   ],
   "source": [
    "#create a list using comprehensions\n",
    "nums=[values for values in range(20)]\n",
    "print(nums)\n",
    "\n",
    "\n",
    "#maping values\n",
    "square_even=[values**2 for values in range(20)]\n",
    "print(square)\n",
    "\n",
    "\n",
    "\n",
    "#maping values wih filter\n",
    "square_even=[values**2 for values in range(29) if values%2==0]\n",
    "print(square)\n",
    "\n"
   ]
  },
  {
   "cell_type": "code",
   "execution_count": 14,
   "id": "328d3e7c",
   "metadata": {},
   "outputs": [
    {
     "name": "stdout",
     "output_type": "stream",
     "text": [
      "['YELLOW', 'GREEN', 'BLUE', 'RED', 'BLACK']\n"
     ]
    }
   ],
   "source": [
    "colors=['Yellow','Green','Blue','rED','bLAck']\n",
    "\n",
    "updated_colors=[color.upper() for color in colors]\n",
    "print(updated_colors)\n",
    "\n",
    "\n",
    "\n",
    "updated_colors=[color.lower() for color in colors]\n",
    "print(updated_colors)\n",
    "\n",
    "\n"
   ]
  },
  {
   "cell_type": "code",
   "execution_count": 21,
   "id": "502952aa",
   "metadata": {},
   "outputs": [
    {
     "name": "stdout",
     "output_type": "stream",
     "text": [
      "0\n",
      "\n",
      "\n",
      "1\n",
      "\n",
      "\n",
      "2\n",
      "\n",
      "\n",
      "3\n",
      "\n",
      "\n",
      "4\n",
      "\n",
      "\n",
      "5\n",
      "\n",
      "\n",
      "6\n",
      "\n",
      "\n",
      "7\n",
      "\n",
      "\n",
      "8\n",
      "\n",
      "\n",
      "9\n",
      "\n",
      "\n",
      "10\n",
      "\n",
      "\n",
      "11\n",
      "\n",
      "\n",
      "12\n",
      "\n",
      "\n",
      "13\n",
      "\n",
      "\n",
      "14\n",
      "\n",
      "\n",
      "15\n",
      "\n",
      "\n",
      "16\n",
      "\n",
      "\n",
      "17\n",
      "\n",
      "\n",
      "18\n",
      "\n",
      "\n",
      "19\n",
      "\n",
      "\n",
      "0 1 2 3 4 5 6 7 8 9 10 11 12 13 14 15 16 17 18 19 "
     ]
    }
   ],
   "source": [
    "#In Python, a generator is a function that returns an iterator that produces a sequence of values when iterated over. Generators are useful when we want to produce a large sequence of values, but we don't want to store all of them in memory at once\n",
    "#generator data\n",
    "#only take memory when executed\n",
    "#not greedy approach\n",
    "\n",
    "nus = (values for values in range(20))\n",
    "for value in nus:\n",
    "    print (value)\n",
    "    print ('\\n')\n",
    "    \n",
    "nus = list(values for values in range(20))\n",
    "for value in nus:\n",
    "    print (value,end= ' ')\n",
    "    \n",
    "        "
   ]
  }
 ],
 "metadata": {
  "kernelspec": {
   "display_name": "Python 3 (ipykernel)",
   "language": "python",
   "name": "python3"
  },
  "language_info": {
   "codemirror_mode": {
    "name": "ipython",
    "version": 3
   },
   "file_extension": ".py",
   "mimetype": "text/x-python",
   "name": "python",
   "nbconvert_exporter": "python",
   "pygments_lexer": "ipython3",
   "version": "3.11.4"
  }
 },
 "nbformat": 4,
 "nbformat_minor": 5
}
