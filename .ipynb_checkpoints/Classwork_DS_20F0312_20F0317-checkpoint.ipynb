{
 "cells": [
  {
   "cell_type": "code",
   "execution_count": null,
   "id": "25d70c56",
   "metadata": {},
   "outputs": [],
   "source": [
    "# MUHAMMAD EHSAN _ 20F 0312\n",
    "# MUHAMMAD SHAHZAIB _ 20F 0317\n",
    "# DS CLASS WORK"
   ]
  },
  {
   "cell_type": "code",
   "execution_count": 52,
   "id": "df0dea69",
   "metadata": {},
   "outputs": [
    {
     "name": "stdout",
     "output_type": "stream",
     "text": [
      "\n",
      "DataFrame 1\n",
      "\n",
      "    Noun  Height Residence\n",
      "0    Ali      25       Lhr\n",
      "1   Bali      30        LA\n",
      "2   Tipu      35       Fsd\n",
      "3  Shifu      40       Isb\n"
     ]
    }
   ],
   "source": [
    "import pandas as pd\n",
    "\n",
    "data1 = {\n",
    "    'Noun': ['Ali', 'Bali', 'Tipu', 'Shifu'],\n",
    "    'Height': [25, 30, 35, 40],\n",
    "    'Residence': ['Lhr', 'LA', 'Fsd', 'Isb']\n",
    "}\n",
    "\n",
    "df1 = pd.DataFrame(data1)\n",
    "\n",
    "print(\"\\nDataFrame 1\\n\")\n",
    "print(df1)\n"
   ]
  },
  {
   "cell_type": "code",
   "execution_count": 53,
   "id": "b9bfde6f",
   "metadata": {},
   "outputs": [
    {
     "name": "stdout",
     "output_type": "stream",
     "text": [
      "\n",
      "DataFrame 2\n",
      "\n",
      "     Noun  Height Residence\n",
      "0    Shah      31   Chiniot\n",
      "1   Ehsan      33      Toba\n",
      "2   Ahmed      40    Rajana\n",
      "3  Hassan      15     Gojra\n"
     ]
    }
   ],
   "source": [
    "data2 = {\n",
    "    'Noun': ['Shah', 'Ehsan', 'Ahmed', 'Hassan'],\n",
    "    'Height': [31, 33, 40, 15],\n",
    "    'Residence': ['Chiniot', 'Toba', 'Rajana', 'Gojra']\n",
    "}\n",
    "\n",
    "print(\"\\nDataFrame 2\\n\")\n",
    "df2 = pd.DataFrame(data2)\n",
    "print(df2)"
   ]
  },
  {
   "cell_type": "code",
   "execution_count": 23,
   "id": "86d49099",
   "metadata": {},
   "outputs": [
    {
     "name": "stdout",
     "output_type": "stream",
     "text": [
      "INNER\n",
      "\n",
      "Empty DataFrame\n",
      "Columns: [Noun, Height_x, Residence_x, Height_y, Residence_y]\n",
      "Index: []\n",
      "\n",
      "LEFT\n",
      "\n",
      "    Noun  Height_x Residence_x  Height_y Residence_y\n",
      "0    Ali        25         Lhr       NaN         NaN\n",
      "1   Bali        30          LA       NaN         NaN\n",
      "2   Tipu        35         Fsd       NaN         NaN\n",
      "3  Shifu        40         Isb       NaN         NaN\n",
      "\n",
      "RIGHT\n",
      "\n",
      "     Noun  Height_x Residence_x  Height_y Residence_y\n",
      "0    Shah       NaN         NaN        31     Chiniot\n",
      "1   Ehsan       NaN         NaN        33        Toba\n",
      "2   Ahmed       NaN         NaN        40      Rajana\n",
      "3  Hassan       NaN         NaN        15       Gojra\n",
      "\n",
      "OUTER\n",
      "\n",
      "     Noun  Height_x Residence_x  Height_y Residence_y\n",
      "0     Ali      25.0         Lhr       NaN         NaN\n",
      "1    Bali      30.0          LA       NaN         NaN\n",
      "2    Tipu      35.0         Fsd       NaN         NaN\n",
      "3   Shifu      40.0         Isb       NaN         NaN\n",
      "4    Shah       NaN         NaN      31.0     Chiniot\n",
      "5   Ehsan       NaN         NaN      33.0        Toba\n",
      "6   Ahmed       NaN         NaN      40.0      Rajana\n",
      "7  Hassan       NaN         NaN      15.0       Gojra\n"
     ]
    }
   ],
   "source": [
    "# MERGE\n",
    "print(\"INNER\\n\")\n",
    "merge_df = df1.merge(df2, on='Noun', how='inner')\n",
    "print(merge_df)\n",
    "\n",
    "print(\"\\nLEFT\\n\")\n",
    "merged_df_left = df1.merge(df2, on='Noun', how='left')\n",
    "print(merged_df_left)\n",
    "\n",
    "print(\"\\nRIGHT\\n\")\n",
    "merged_df_right = df1.merge(df2, on='Noun', how='right')\n",
    "print(merged_df_right)\n",
    "\n",
    "print(\"\\nOUTER\\n\")\n",
    "merged_df_outer = df1.merge(df2, on='Noun', how='outer')\n",
    "print(merged_df_outer)"
   ]
  },
  {
   "cell_type": "code",
   "execution_count": 31,
   "id": "108ac243",
   "metadata": {},
   "outputs": [
    {
     "name": "stdout",
     "output_type": "stream",
     "text": [
      "Concatenated Vertically (ROWS)\n",
      "\n",
      "     Noun  Height Residence\n",
      "0     Ali      25       Lhr\n",
      "1    Bali      30        LA\n",
      "2    Tipu      35       Fsd\n",
      "3   Shifu      40       Isb\n",
      "0    Shah      31   Chiniot\n",
      "1   Ehsan      33      Toba\n",
      "2   Ahmed      40    Rajana\n",
      "3  Hassan      15     Gojra\n",
      "\n",
      "\n",
      "Concatenated Horizontally (COLUMNS)\n",
      "\n",
      "    Noun  Height Residence    Noun  Height Residence\n",
      "0    Ali      25       Lhr    Shah      31   Chiniot\n",
      "1   Bali      30        LA   Ehsan      33      Toba\n",
      "2   Tipu      35       Fsd   Ahmed      40    Rajana\n",
      "3  Shifu      40       Isb  Hassan      15     Gojra\n"
     ]
    }
   ],
   "source": [
    "# CONCAT\n",
    "\n",
    "concat_vertically = pd.concat([df1, df2], axis=0)\n",
    "print(\"Concatenated Vertically (ROWS)\\n\")\n",
    "print(concat_vertically)\n",
    "\n",
    "concat_horizontally = pd.concat([df1, df2], axis=1)\n",
    "print(\"\\n\\nConcatenated Horizontally (COLUMNS)\\n\")\n",
    "print(concat_horizontally)"
   ]
  },
  {
   "cell_type": "code",
   "execution_count": 29,
   "id": "8534bcb4",
   "metadata": {},
   "outputs": [
    {
     "name": "stdout",
     "output_type": "stream",
     "text": [
      "Combined DataFrame\n",
      "\n",
      "    Noun  Height Residence\n",
      "0    Ali      25       Lhr\n",
      "1   Bali      30        LA\n",
      "2   Tipu      35       Fsd\n",
      "3  Shifu      40       Isb\n"
     ]
    }
   ],
   "source": [
    "# COMBINE FIRST\n",
    "combo = df1.combine_first(df2)\n",
    "\n",
    "print(\"Combined DataFrame\\n\")\n",
    "print(combo)"
   ]
  },
  {
   "cell_type": "code",
   "execution_count": 43,
   "id": "fd27364d",
   "metadata": {},
   "outputs": [
    {
     "name": "stdout",
     "output_type": "stream",
     "text": [
      "\n",
      "Stacked DataFrame\n",
      "\n",
      "CLASS-1  Ali    Height            25\n",
      "                Residence        Lhr\n",
      "         Bali   Height            30\n",
      "                Residence         LA\n",
      "         Tipu   Height            35\n",
      "                Residence        Fsd\n",
      "         Shifu  Height            40\n",
      "                Residence        Isb\n",
      "CLASS-2  0      Height            31\n",
      "                Residence    Chiniot\n",
      "                Noun            Shah\n",
      "         1      Height            33\n",
      "                Residence       Toba\n",
      "                Noun           Ehsan\n",
      "         2      Height            40\n",
      "                Residence     Rajana\n",
      "                Noun           Ahmed\n",
      "         3      Height            15\n",
      "                Residence      Gojra\n",
      "                Noun          Hassan\n",
      "dtype: object\n"
     ]
    }
   ],
   "source": [
    "# STACK\n",
    "\n",
    "stacked_df = pd.concat([df1, df2], keys=['CLASS-1', 'CLASS-2'])\n",
    "\n",
    "# Stack the DataFrame\n",
    "stacked_df = stacked_df.stack()\n",
    "\n",
    "print(\"\\nStacked DataFrame\\n\")\n",
    "print(stacked_df)"
   ]
  },
  {
   "cell_type": "code",
   "execution_count": 45,
   "id": "d6383664",
   "metadata": {},
   "outputs": [
    {
     "name": "stdout",
     "output_type": "stream",
     "text": [
      "\n",
      "Unstacked DataFrame\n",
      "\n",
      "\n",
      "              Height Residence    Noun\n",
      "CLASS-1 Ali       25       Lhr     NaN\n",
      "        Bali      30        LA     NaN\n",
      "        Shifu     40       Isb     NaN\n",
      "        Tipu      35       Fsd     NaN\n",
      "CLASS-2 0         31   Chiniot    Shah\n",
      "        1         33      Toba   Ehsan\n",
      "        2         40    Rajana   Ahmed\n",
      "        3         15     Gojra  Hassan\n"
     ]
    }
   ],
   "source": [
    "# UNSTACK\n",
    "unstacked_df = stacked_df.unstack()\n",
    "\n",
    "print(\"\\nUnstacked DataFrame\\n\\n\")\n",
    "print(unstacked_df)"
   ]
  },
  {
   "cell_type": "code",
   "execution_count": 49,
   "id": "f02097ea",
   "metadata": {},
   "outputs": [
    {
     "name": "stdout",
     "output_type": "stream",
     "text": [
      "DataFrame 1 with Dummy Variables:\n",
      "   Height  Noun_Ali  Noun_Bali  Noun_Shifu  Noun_Tipu  Residence_Fsd  \\\n",
      "0      25         1          0           0          0              0   \n",
      "1      30         0          1           0          0              0   \n",
      "2      35         0          0           0          1              1   \n",
      "3      40         0          0           1          0              0   \n",
      "\n",
      "   Residence_Isb  Residence_LA  Residence_Lhr  \n",
      "0              0             0              1  \n",
      "1              0             1              0  \n",
      "2              0             0              0  \n",
      "3              1             0              0  \n",
      "\n",
      "DataFrame 2 with Dummy Variables:\n",
      "   Height  Noun_Ahmed  Noun_Ehsan  Noun_Hassan  Noun_Shah  Residence_Chiniot  \\\n",
      "0      31           0           0            0          1                  1   \n",
      "1      33           0           1            0          0                  0   \n",
      "2      40           1           0            0          0                  0   \n",
      "3      15           0           0            1          0                  0   \n",
      "\n",
      "   Residence_Gojra  Residence_Rajana  Residence_Toba  \n",
      "0                0                 0               0  \n",
      "1                0                 0               1  \n",
      "2                0                 1               0  \n",
      "3                1                 0               0  \n"
     ]
    }
   ],
   "source": [
    "# GET DUMMIES\n",
    "dummies_df1 = pd.get_dummies(df1, columns=['Noun', 'Residence'])\n",
    "dummies_df2 = pd.get_dummies(df2, columns=['Noun', 'Residence'])\n",
    "\n",
    "print(\"DataFrame 1 with Dummy Variables:\")\n",
    "print(dummies_df1)\n",
    "\n",
    "print(\"\\nDataFrame 2 with Dummy Variables:\")\n",
    "print(dummies_df2)"
   ]
  }
 ],
 "metadata": {
  "kernelspec": {
   "display_name": "Python 3 (ipykernel)",
   "language": "python",
   "name": "python3"
  },
  "language_info": {
   "codemirror_mode": {
    "name": "ipython",
    "version": 3
   },
   "file_extension": ".py",
   "mimetype": "text/x-python",
   "name": "python",
   "nbconvert_exporter": "python",
   "pygments_lexer": "ipython3",
   "version": "3.11.5"
  }
 },
 "nbformat": 4,
 "nbformat_minor": 5
}
